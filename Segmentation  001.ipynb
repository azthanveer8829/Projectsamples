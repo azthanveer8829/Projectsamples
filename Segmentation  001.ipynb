{
 "cells": [
  {
   "cell_type": "code",
   "execution_count": 1,
   "metadata": {},
   "outputs": [],
   "source": [
    "# import the libraries\n",
    "\n",
    "# library for processing linear algebra\n",
    "import numpy as np  \n",
    "\n",
    "# library for data processing\n",
    "import pandas as pd \n",
    "\n",
    "\n",
    "# for Data Visualization \n",
    "import matplotlib.pyplot as plt  \n",
    "import seaborn as sns    \n",
    "\n",
    "\n",
    "import os\n",
    "import warnings\n",
    "\n",
    "from IPython.display import display\n",
    "\n",
    "from IPython.core.interactiveshell import InteractiveShell\n",
    "InteractiveShell.ast_node_interactivity = \"all\""
   ]
  },
  {
   "cell_type": "code",
   "execution_count": 2,
   "metadata": {},
   "outputs": [],
   "source": [
    "#load dataset libraries\n",
    "from sklearn import datasets\n",
    "from sklearn.decomposition import PCA"
   ]
  },
  {
   "cell_type": "code",
   "execution_count": 3,
   "metadata": {},
   "outputs": [],
   "source": [
    "# Dataset used is iris\n",
    "iris = datasets.load_iris()\n"
   ]
  },
  {
   "cell_type": "code",
   "execution_count": 31,
   "metadata": {},
   "outputs": [],
   "source": [
    "X = iris.data\n",
    "y = iris.target"
   ]
  },
  {
   "cell_type": "code",
   "execution_count": 7,
   "metadata": {},
   "outputs": [
    {
     "data": {
      "text/plain": [
       "(150, 4)"
      ]
     },
     "execution_count": 7,
     "metadata": {},
     "output_type": "execute_result"
    },
    {
     "data": {
      "text/plain": [
       "(150,)"
      ]
     },
     "execution_count": 7,
     "metadata": {},
     "output_type": "execute_result"
    }
   ],
   "source": [
    "X.shape\n",
    "y.shape"
   ]
  },
  {
   "cell_type": "code",
   "execution_count": 8,
   "metadata": {},
   "outputs": [],
   "source": [
    "# Reducing the number of dimentions to 2 \n",
    "pca = PCA(n_components=2)"
   ]
  },
  {
   "cell_type": "code",
   "execution_count": 10,
   "metadata": {},
   "outputs": [
    {
     "data": {
      "text/plain": [
       "PCA(n_components=2)"
      ]
     },
     "execution_count": 10,
     "metadata": {},
     "output_type": "execute_result"
    }
   ],
   "source": [
    "pca.fit(X)"
   ]
  },
  {
   "cell_type": "code",
   "execution_count": 12,
   "metadata": {},
   "outputs": [
    {
     "data": {
      "text/plain": [
       "array([[ 0.36138659, -0.08452251,  0.85667061,  0.3582892 ],\n",
       "       [ 0.65658877,  0.73016143, -0.17337266, -0.07548102]])"
      ]
     },
     "execution_count": 12,
     "metadata": {},
     "output_type": "execute_result"
    }
   ],
   "source": [
    "pca.components_"
   ]
  },
  {
   "cell_type": "code",
   "execution_count": 15,
   "metadata": {},
   "outputs": [],
   "source": [
    "z = pca.transform(X)"
   ]
  },
  {
   "cell_type": "code",
   "execution_count": 16,
   "metadata": {},
   "outputs": [
    {
     "data": {
      "text/plain": [
       "(150, 2)"
      ]
     },
     "execution_count": 16,
     "metadata": {},
     "output_type": "execute_result"
    }
   ],
   "source": [
    "z.shape"
   ]
  },
  {
   "cell_type": "code",
   "execution_count": 17,
   "metadata": {},
   "outputs": [
    {
     "data": {
      "text/plain": [
       "<matplotlib.collections.PathCollection at 0x265ec47b948>"
      ]
     },
     "execution_count": 17,
     "metadata": {},
     "output_type": "execute_result"
    },
    {
     "data": {
      "image/png": "[encoded data removed]",
      "text/plain": [
       "<Figure size 432x288 with 1 Axes>"
      ]
     },
     "metadata": {
      "needs_background": "light"
     },
     "output_type": "display_data"
    }
   ],
   "source": [
    "plt.scatter(z[:,0], z[:,1], c=y)"
   ]
  },
  {
   "cell_type": "code",
   "execution_count": 26,
   "metadata": {},
   "outputs": [],
   "source": [
    "# the dataset after applying pca\n",
    "col_1 = z[:,0]\n",
    "col_2 = z[:,1]"
   ]
  },
  {
   "cell_type": "code",
   "execution_count": 27,
   "metadata": {},
   "outputs": [
    {
     "data": {
      "text/plain": [
       "Index(['index', 0], dtype='object')"
      ]
     },
     "execution_count": 27,
     "metadata": {},
     "output_type": "execute_result"
    }
   ],
   "source": [
    "data = pd.DataFrame(col_1, col_2).reset_index()\n",
    "data.columns"
   ]
  },
  {
   "cell_type": "code",
   "execution_count": 28,
   "metadata": {},
   "outputs": [],
   "source": [
    "data.rename(columns={'index':'dim_1', 0:'dim_2'}, inplace=True)"
   ]
  },
  {
   "cell_type": "code",
   "execution_count": 29,
   "metadata": {},
   "outputs": [
    {
     "data": {
      "text/plain": [
       "Index(['dim_1', 'dim_2'], dtype='object')"
      ]
     },
     "execution_count": 29,
     "metadata": {},
     "output_type": "execute_result"
    }
   ],
   "source": [
    "data.columns"
   ]
  },
  {
   "cell_type": "code",
   "execution_count": 30,
   "metadata": {},
   "outputs": [
    {
     "data": {
      "text/html": [
       "<div>\n",
       "<style scoped>\n",
       "    .dataframe tbody tr th:only-of-type {\n",
       "        vertical-align: middle;\n",
       "    }\n",
       "\n",
       "    .dataframe tbody tr th {\n",
       "        vertical-align: top;\n",
       "    }\n",
       "\n",
       "    .dataframe thead th {\n",
       "        text-align: right;\n",
       "    }\n",
       "</style>\n",
       "<table border=\"1\" class=\"dataframe\">\n",
       "  <thead>\n",
       "    <tr style=\"text-align: right;\">\n",
       "      <th></th>\n",
       "      <th>dim_1</th>\n",
       "      <th>dim_2</th>\n",
       "    </tr>\n",
       "  </thead>\n",
       "  <tbody>\n",
       "    <tr>\n",
       "      <td>0</td>\n",
       "      <td>0.319397</td>\n",
       "      <td>-2.684126</td>\n",
       "    </tr>\n",
       "    <tr>\n",
       "      <td>1</td>\n",
       "      <td>-0.177001</td>\n",
       "      <td>-2.714142</td>\n",
       "    </tr>\n",
       "    <tr>\n",
       "      <td>2</td>\n",
       "      <td>-0.144949</td>\n",
       "      <td>-2.888991</td>\n",
       "    </tr>\n",
       "    <tr>\n",
       "      <td>3</td>\n",
       "      <td>-0.318299</td>\n",
       "      <td>-2.745343</td>\n",
       "    </tr>\n",
       "    <tr>\n",
       "      <td>4</td>\n",
       "      <td>0.326755</td>\n",
       "      <td>-2.728717</td>\n",
       "    </tr>\n",
       "  </tbody>\n",
       "</table>\n",
       "</div>"
      ],
      "text/plain": [
       "      dim_1     dim_2\n",
       "0  0.319397 -2.684126\n",
       "1 -0.177001 -2.714142\n",
       "2 -0.144949 -2.888991\n",
       "3 -0.318299 -2.745343\n",
       "4  0.326755 -2.728717"
      ]
     },
     "execution_count": 30,
     "metadata": {},
     "output_type": "execute_result"
    }
   ],
   "source": [
    "data.head()"
   ]
  },
  {
   "cell_type": "code",
   "execution_count": 49,
   "metadata": {},
   "outputs": [
    {
     "data": {
      "text/html": [
       "<div>\n",
       "<style scoped>\n",
       "    .dataframe tbody tr th:only-of-type {\n",
       "        vertical-align: middle;\n",
       "    }\n",
       "\n",
       "    .dataframe tbody tr th {\n",
       "        vertical-align: top;\n",
       "    }\n",
       "\n",
       "    .dataframe thead th {\n",
       "        text-align: right;\n",
       "    }\n",
       "</style>\n",
       "<table border=\"1\" class=\"dataframe\">\n",
       "  <thead>\n",
       "    <tr style=\"text-align: right;\">\n",
       "      <th></th>\n",
       "      <th>0</th>\n",
       "    </tr>\n",
       "  </thead>\n",
       "  <tbody>\n",
       "    <tr>\n",
       "      <td>0</td>\n",
       "      <td>0</td>\n",
       "    </tr>\n",
       "    <tr>\n",
       "      <td>1</td>\n",
       "      <td>0</td>\n",
       "    </tr>\n",
       "  </tbody>\n",
       "</table>\n",
       "</div>"
      ],
      "text/plain": [
       "   0\n",
       "0  0\n",
       "1  0"
      ]
     },
     "execution_count": 49,
     "metadata": {},
     "output_type": "execute_result"
    }
   ],
   "source": [
    "y_data = pd.DataFrame(y)\n",
    "y_data.head(2)"
   ]
  },
  {
   "cell_type": "code",
   "execution_count": 50,
   "metadata": {},
   "outputs": [],
   "source": [
    "new_data = pd.concat([data, y_data], axis=1, ignore_index=True).rename(columns={0:'x', 1:'y', 2:'clusters'})"
   ]
  },
  {
   "cell_type": "code",
   "execution_count": 51,
   "metadata": {},
   "outputs": [
    {
     "data": {
      "text/html": [
       "<div>\n",
       "<style scoped>\n",
       "    .dataframe tbody tr th:only-of-type {\n",
       "        vertical-align: middle;\n",
       "    }\n",
       "\n",
       "    .dataframe tbody tr th {\n",
       "        vertical-align: top;\n",
       "    }\n",
       "\n",
       "    .dataframe thead th {\n",
       "        text-align: right;\n",
       "    }\n",
       "</style>\n",
       "<table border=\"1\" class=\"dataframe\">\n",
       "  <thead>\n",
       "    <tr style=\"text-align: right;\">\n",
       "      <th></th>\n",
       "      <th>x</th>\n",
       "      <th>y</th>\n",
       "      <th>clusters</th>\n",
       "    </tr>\n",
       "  </thead>\n",
       "  <tbody>\n",
       "    <tr>\n",
       "      <td>0</td>\n",
       "      <td>0.319397</td>\n",
       "      <td>-2.684126</td>\n",
       "      <td>0</td>\n",
       "    </tr>\n",
       "    <tr>\n",
       "      <td>1</td>\n",
       "      <td>-0.177001</td>\n",
       "      <td>-2.714142</td>\n",
       "      <td>0</td>\n",
       "    </tr>\n",
       "    <tr>\n",
       "      <td>2</td>\n",
       "      <td>-0.144949</td>\n",
       "      <td>-2.888991</td>\n",
       "      <td>0</td>\n",
       "    </tr>\n",
       "    <tr>\n",
       "      <td>3</td>\n",
       "      <td>-0.318299</td>\n",
       "      <td>-2.745343</td>\n",
       "      <td>0</td>\n",
       "    </tr>\n",
       "    <tr>\n",
       "      <td>4</td>\n",
       "      <td>0.326755</td>\n",
       "      <td>-2.728717</td>\n",
       "      <td>0</td>\n",
       "    </tr>\n",
       "  </tbody>\n",
       "</table>\n",
       "</div>"
      ],
      "text/plain": [
       "          x         y  clusters\n",
       "0  0.319397 -2.684126         0\n",
       "1 -0.177001 -2.714142         0\n",
       "2 -0.144949 -2.888991         0\n",
       "3 -0.318299 -2.745343         0\n",
       "4  0.326755 -2.728717         0"
      ]
     },
     "execution_count": 51,
     "metadata": {},
     "output_type": "execute_result"
    }
   ],
   "source": [
    "new_data.head()"
   ]
  },
  {
   "cell_type": "code",
   "execution_count": 53,
   "metadata": {},
   "outputs": [
    {
     "data": {
      "text/plain": [
       "2    50\n",
       "1    50\n",
       "0    50\n",
       "Name: clusters, dtype: int64"
      ]
     },
     "execution_count": 53,
     "metadata": {},
     "output_type": "execute_result"
    }
   ],
   "source": [
    "new_data['clusters'].value_counts()"
   ]
  },
  {
   "cell_type": "code",
   "execution_count": 56,
   "metadata": {},
   "outputs": [
    {
     "data": {
      "text/plain": [
       "<matplotlib.collections.PathCollection at 0x265ec252808>"
      ]
     },
     "execution_count": 56,
     "metadata": {},
     "output_type": "execute_result"
    },
    {
     "data": {
      "image/png": "[encoded data removed]",
      "text/plain": [
       "<Figure size 432x288 with 1 Axes>"
      ]
     },
     "metadata": {
      "needs_background": "light"
     },
     "output_type": "display_data"
    }
   ],
   "source": [
    "plt.scatter(new_data['x'], new_data['y'], c = new_data['clusters'], cmap = 'viridis')"
   ]
  },
  {
   "cell_type": "markdown",
   "metadata": {},
   "source": [
    "### segment into clusters"
   ]
  },
  {
   "cell_type": "code",
   "execution_count": 66,
   "metadata": {},
   "outputs": [],
   "source": [
    "#import Libraries\n",
    "from sklearn.cluster import KMeans\n",
    "\n",
    "# getting all the columns to same scale\n",
    "from sklearn.preprocessing import StandardScaler              "
   ]
  },
  {
   "cell_type": "code",
   "execution_count": 60,
   "metadata": {},
   "outputs": [],
   "source": [
    "X = new_data[['x', 'y']]\n",
    "y = new_data['clusters']"
   ]
  },
  {
   "cell_type": "code",
   "execution_count": 62,
   "metadata": {
    "collapsed": true
   },
   "outputs": [
    {
     "data": {
      "text/plain": [
       "array([[ 0.65054141, -1.30971087],\n",
       "       [-0.36051227, -1.32435711],\n",
       "       [-0.29522986, -1.40967409],\n",
       "       [-0.64830449, -1.33958163],\n",
       "       [ 0.66552653, -1.33146886],\n",
       "       [ 1.50992585, -1.11293846],\n",
       "       [-0.18221302, -1.37627274],\n",
       "       [ 0.33277896, -1.28141939],\n",
       "       [-1.17789289, -1.4084016 ],\n",
       "       [-0.23173293, -1.30416299],\n",
       "       [ 1.3138624 , -1.22325714],\n",
       "       [ 0.03000162, -1.2748859 ],\n",
       "       [-0.47887104, -1.35947347],\n",
       "       [-1.04159745, -1.57304515],\n",
       "       [ 2.40088235, -1.29049784],\n",
       "       [ 2.72533645, -1.16426043],\n",
       "       [ 1.65117453, -1.28014238],\n",
       "       [ 0.6351676 , -1.29222826],\n",
       "       [ 1.7777797 , -1.07339558],\n",
       "       [ 1.04600854, -1.26280003],\n",
       "       [ 0.79708495, -1.12728243],\n",
       "       [ 0.88191703, -1.24119316],\n",
       "       [ 0.27184488, -1.56920777],\n",
       "       [ 0.20104806, -1.12361159],\n",
       "       [-0.07593489, -1.14948296],\n",
       "       [-0.29740403, -1.2231214 ],\n",
       "       [ 0.26671917, -1.20465318],\n",
       "       [ 0.74896183, -1.25027614],\n",
       "       [ 0.63555629, -1.28795287],\n",
       "       [-0.40116637, -1.28427115],\n",
       "       [-0.41615149, -1.26251315],\n",
       "       [ 0.83696167, -1.17591917],\n",
       "       [ 1.65664186, -1.29250425],\n",
       "       [ 2.22649567, -1.26804563],\n",
       "       [-0.24710674, -1.28668038],\n",
       "       [ 0.14128006, -1.39857382],\n",
       "       [ 1.22078391, -1.28097685],\n",
       "       [ 0.54716776, -1.36658522],\n",
       "       [-0.99386302, -1.45432683],\n",
       "       [ 0.46651154, -1.26378564],\n",
       "       [ 0.53674719, -1.35166298],\n",
       "       [-1.91652817, -1.39034072],\n",
       "       [-0.69642761, -1.46257533],\n",
       "       [ 0.38468925, -1.17381221],\n",
       "       [ 0.88938606, -1.0781135 ],\n",
       "       [-0.50961867, -1.32450825],\n",
       "       [ 1.02607019, -1.23848166],\n",
       "       [-0.46427461, -1.38550686],\n",
       "       [ 1.18012982, -1.24089089],\n",
       "       [ 0.21937342, -1.31909611],\n",
       "       [ 1.39552005,  0.62692675],\n",
       "       [ 0.64837508,  0.45500492],\n",
       "       [ 1.02707161,  0.71450183],\n",
       "       [-1.68636903,  0.08944932],\n",
       "       [ 0.15192468,  0.53093665],\n",
       "       [-0.85187619,  0.31310046],\n",
       "       [ 0.57736205,  0.53433149],\n",
       "       [-2.04674021, -0.36553211],\n",
       "       [ 0.46512259,  0.50948092],\n",
       "       [-1.47275761, -0.00426729],\n",
       "       [-2.57850278, -0.2477994 ],\n",
       "       [-0.21178673,  0.24968174],\n",
       "       [-1.12030239,  0.12929447],\n",
       "       [-0.25422631,  0.48059577],\n",
       "       [-0.51908155, -0.08486635],\n",
       "       [ 0.9515411 ,  0.45274682],\n",
       "       [-0.71892099,  0.32218344],\n",
       "       [-0.6794912 ,  0.11520671],\n",
       "       [-1.10626713,  0.46097993],\n",
       "       [-1.18914125,  0.02206836],\n",
       "       [-0.17234578,  0.54468695],\n",
       "       [-0.14038502,  0.17463056],\n",
       "       [-0.66763011,  0.63344484],\n",
       "       [-0.37219639,  0.4497548 ],\n",
       "       [ 0.30359393,  0.34881049],\n",
       "       [ 0.66909082,  0.43923732],\n",
       "       [ 0.4978719 ,  0.64995724],\n",
       "       [ 0.54482895,  0.76012478],\n",
       "       [-0.33270836,  0.39684268],\n",
       "       [-0.75006847, -0.14910867],\n",
       "       [-1.43627937, -0.03324211],\n",
       "       [-1.38559339, -0.0925257 ],\n",
       "       [-0.63961449,  0.06656997],\n",
       "       [-0.8573906 ,  0.67337967],\n",
       "       [-0.98638616,  0.28691594],\n",
       "       [ 0.39550634,  0.39370404],\n",
       "       [ 0.83023078,  0.59563237],\n",
       "       [-0.75775705,  0.39772322],\n",
       "       [-0.54692469,  0.1200143 ],\n",
       "       [-1.38893362,  0.08120082],\n",
       "       [-1.36609079,  0.22679788],\n",
       "       [-0.07019644,  0.43467054],\n",
       "       [-0.82364436,  0.1124952 ],\n",
       "       [-2.06172533, -0.34377411],\n",
       "       [-1.02838997,  0.17418803],\n",
       "       [-0.43313047,  0.16196641],\n",
       "       [-0.59722198,  0.18357327],\n",
       "       [ 0.03612876,  0.31354299],\n",
       "       [-1.53999464, -0.44230919],\n",
       "       [-0.71062752,  0.14589654],\n",
       "       [-0.02006045,  1.23508773],\n",
       "       [-1.1709772 ,  0.69056001],\n",
       "       [ 0.70045451,  1.27679904],\n",
       "       [-0.36606591,  0.96200253],\n",
       "       [-0.08200263,  1.14667818],\n",
       "       [ 1.12193224,  1.65757463],\n",
       "       [-2.42938521,  0.25433367],\n",
       "       [ 0.72407473,  1.43094687],\n",
       "       [-0.49663074,  1.13263648],\n",
       "       [ 1.59437373,  1.42321969],\n",
       "       [ 0.49336559,  0.8108576 ],\n",
       "       [-0.43920604,  0.87996445],\n",
       "       [ 0.44050544,  1.05669387],\n",
       "       [-1.58220683,  0.65685639],\n",
       "       [-1.09912855,  0.77384881],\n",
       "       [ 0.24288723,  0.92927365],\n",
       "       [ 0.08542913,  0.9513448 ],\n",
       "       [ 2.39472047,  1.70149797],\n",
       "       [ 0.52410987,  1.85207354],\n",
       "       [-1.55029314,  0.63471733],\n",
       "       [ 0.77030147,  1.1846463 ],\n",
       "       [-1.23447413,  0.58504891],\n",
       "       [ 0.93829105,  1.70777525],\n",
       "       [-0.41631614,  0.67764417],\n",
       "       [ 0.68230163,  1.11028934],\n",
       "       [ 1.14243177,  1.27553743],\n",
       "       [-0.36601884,  0.6140852 ],\n",
       "       [-0.23762819,  0.63000393],\n",
       "       [-0.42717247,  1.03620836],\n",
       "       [ 0.94636832,  1.16521875],\n",
       "       [ 0.76434013,  1.38658552],\n",
       "       [ 2.79886977,  1.5763973 ],\n",
       "       [-0.44254628,  1.05369097],\n",
       "       [-0.29210134,  0.70467405],\n",
       "       [-1.01818895,  0.86917734],\n",
       "       [ 1.40147805,  1.50116871],\n",
       "       [ 0.28527974,  1.04627695],\n",
       "       [ 0.10041425,  0.9295868 ],\n",
       "       [-0.3360486 ,  0.5705692 ],\n",
       "       [ 0.7582679 ,  1.02840239],\n",
       "       [ 0.37405696,  1.12918469],\n",
       "       [ 0.83345678,  0.93796468],\n",
       "       [-1.1709772 ,  0.69056001],\n",
       "       [ 0.56594455,  1.25061452],\n",
       "       [ 0.62080639,  1.18021978],\n",
       "       [ 0.38196174,  0.94862241],\n",
       "       [-0.76443752,  0.74517627],\n",
       "       [ 0.16061801,  0.86090708],\n",
       "       [ 0.23754531,  0.92755863],\n",
       "       [-0.57571769,  0.67833839]])"
      ]
     },
     "execution_count": 62,
     "metadata": {},
     "output_type": "execute_result"
    }
   ],
   "source": [
    "scaler = StandardScaler()\n",
    "X =  scaler.fit_transform(X)\n",
    "X"
   ]
  },
  {
   "cell_type": "code",
   "execution_count": 64,
   "metadata": {},
   "outputs": [],
   "source": [
    "new_data[['x', 'y']] = X"
   ]
  },
  {
   "cell_type": "code",
   "execution_count": 69,
   "metadata": {},
   "outputs": [
    {
     "data": {
      "text/plain": [
       "KMeans(n_clusters=2, random_state=42)"
      ]
     },
     "execution_count": 69,
     "metadata": {},
     "output_type": "execute_result"
    }
   ],
   "source": [
    "kmeans = KMeans(n_clusters=2, random_state=42)\n",
    "kmeans.fit(X)"
   ]
  },
  {
   "cell_type": "code",
   "execution_count": 71,
   "metadata": {},
   "outputs": [
    {
     "data": {
      "text/plain": [
       "array([[ 0.38879054, -1.28935852],\n",
       "       [-0.19439527,  0.64467926]])"
      ]
     },
     "execution_count": 71,
     "metadata": {},
     "output_type": "execute_result"
    }
   ],
   "source": [
    "center = kmeans.cluster_centers_\n",
    "center"
   ]
  },
  {
   "cell_type": "code",
   "execution_count": 75,
   "metadata": {},
   "outputs": [
    {
     "data": {
      "text/plain": [
       "<matplotlib.collections.PathCollection at 0x265f1f06748>"
      ]
     },
     "execution_count": 75,
     "metadata": {},
     "output_type": "execute_result"
    },
    {
     "data": {
      "text/plain": [
       "[<matplotlib.lines.Line2D at 0x265f21c4bc8>]"
      ]
     },
     "execution_count": 75,
     "metadata": {},
     "output_type": "execute_result"
    },
    {
     "data": {
      "text/plain": [
       "[<matplotlib.lines.Line2D at 0x265f21c8948>]"
      ]
     },
     "execution_count": 75,
     "metadata": {},
     "output_type": "execute_result"
    },
    {
     "data": {
      "image/png": "[encoded data removed]",
      "text/plain": [
       "<Figure size 432x288 with 1 Axes>"
      ]
     },
     "metadata": {
      "needs_background": "light"
     },
     "output_type": "display_data"
    }
   ],
   "source": [
    "plt.scatter(new_data['x'], new_data['y'], c = kmeans.labels_, cmap = 'viridis')\n",
    "for i, point in enumerate(center):\n",
    "    plt.plot(center[i][0], center[i][1], '*r--', linewidth=2, markersize=18)\n",
    "    \n",
    "plt.show()"
   ]
  },
  {
   "cell_type": "code",
   "execution_count": 77,
   "metadata": {},
   "outputs": [
    {
     "data": {
      "text/plain": [
       "<matplotlib.collections.PathCollection at 0x265f0b33d88>"
      ]
     },
     "execution_count": 77,
     "metadata": {},
     "output_type": "execute_result"
    },
    {
     "data": {
      "image/png": "[encoded data removed]",
      "text/plain": [
       "<Figure size 432x288 with 1 Axes>"
      ]
     },
     "metadata": {
      "needs_background": "light"
     },
     "output_type": "display_data"
    }
   ],
   "source": [
    "plt.scatter(new_data['x'], new_data['y'], c = new_data['clusters'], cmap = 'viridis')"
   ]
  },
  {
   "cell_type": "markdown",
   "metadata": {},
   "source": [
    "### How do I choose right value of k i.e. clusters ? "
   ]
  },
  {
   "cell_type": "markdown",
   "metadata": {},
   "source": [
    "assuming we have inputs x_1, x_2, x_3, ..., x_nx"
   ]
  },
  {
   "cell_type": "markdown",
   "metadata": {},
   "source": [
    "- Step 1 - Pick K random points as cluster centers called centroids.\n",
    "- Step 2 - Assign each x_i to nearest cluster by calculating its distance to each centroid.\n",
    "- Step 3 - Find new cluster center by taking the average of the assigned points.\n",
    "- Step 4 - Repeat Step 2 and 3 until none of the cluster assignments change."
   ]
  },
  {
   "cell_type": "markdown",
   "metadata": {},
   "source": [
    "Most important, when to stop increasing K?"
   ]
  },
  {
   "cell_type": "markdown",
   "metadata": {},
   "source": [
    "We often know the value of K. In that case we use the value of K. Else we use the Elbow Method."
   ]
  },
  {
   "cell_type": "markdown",
   "metadata": {},
   "source": [
    "We run the algorithm for different values of K(say K = 10 to 1) and plot the K values against SSE(Sum of Squared Errors). And select the value of K for the elbow point as shown in the figure."
   ]
  },
  {
   "cell_type": "code",
   "execution_count": 79,
   "metadata": {
    "collapsed": true
   },
   "outputs": [
    {
     "data": {
      "text/plain": [
       "KMeans(n_clusters=1, random_state=42)"
      ]
     },
     "execution_count": 79,
     "metadata": {},
     "output_type": "execute_result"
    },
    {
     "name": "stdout",
     "output_type": "stream",
     "text": [
      "300.0\n"
     ]
    },
    {
     "data": {
      "text/plain": [
       "KMeans(n_clusters=2, random_state=42)"
      ]
     },
     "execution_count": 79,
     "metadata": {},
     "output_type": "execute_result"
    },
    {
     "name": "stdout",
     "output_type": "stream",
     "text": [
      "163.9797389781756\n"
     ]
    },
    {
     "data": {
      "text/plain": [
       "KMeans(n_clusters=3, random_state=42)"
      ]
     },
     "execution_count": 79,
     "metadata": {},
     "output_type": "execute_result"
    },
    {
     "name": "stdout",
     "output_type": "stream",
     "text": [
      "90.89577828862144\n"
     ]
    },
    {
     "data": {
      "text/plain": [
       "KMeans(n_clusters=4, random_state=42)"
      ]
     },
     "execution_count": 79,
     "metadata": {},
     "output_type": "execute_result"
    },
    {
     "name": "stdout",
     "output_type": "stream",
     "text": [
      "64.12200715333296\n"
     ]
    },
    {
     "data": {
      "text/plain": [
       "KMeans(n_clusters=5, random_state=42)"
      ]
     },
     "execution_count": 79,
     "metadata": {},
     "output_type": "execute_result"
    },
    {
     "name": "stdout",
     "output_type": "stream",
     "text": [
      "48.87970576676031\n"
     ]
    },
    {
     "data": {
      "text/plain": [
       "KMeans(n_clusters=6, random_state=42)"
      ]
     },
     "execution_count": 79,
     "metadata": {},
     "output_type": "execute_result"
    },
    {
     "name": "stdout",
     "output_type": "stream",
     "text": [
      "39.3657455144496\n"
     ]
    },
    {
     "data": {
      "text/plain": [
       "KMeans(n_clusters=7, random_state=42)"
      ]
     },
     "execution_count": 79,
     "metadata": {},
     "output_type": "execute_result"
    },
    {
     "name": "stdout",
     "output_type": "stream",
     "text": [
      "31.631732724130128\n"
     ]
    },
    {
     "data": {
      "text/plain": [
       "KMeans(random_state=42)"
      ]
     },
     "execution_count": 79,
     "metadata": {},
     "output_type": "execute_result"
    },
    {
     "name": "stdout",
     "output_type": "stream",
     "text": [
      "27.208251956419492\n"
     ]
    },
    {
     "data": {
      "text/plain": [
       "KMeans(n_clusters=9, random_state=42)"
      ]
     },
     "execution_count": 79,
     "metadata": {},
     "output_type": "execute_result"
    },
    {
     "name": "stdout",
     "output_type": "stream",
     "text": [
      "23.288250783447662\n"
     ]
    }
   ],
   "source": [
    "SSE = []\n",
    "index = range(1,10)\n",
    "for i in index:\n",
    "    kmeans = KMeans(n_clusters=i, random_state=42)\n",
    "    kmeans.fit(X)\n",
    "    SSE.append(kmeans.inertia_)\n",
    "    print(kmeans.inertia_)"
   ]
  },
  {
   "cell_type": "code",
   "execution_count": 81,
   "metadata": {},
   "outputs": [
    {
     "data": {
      "text/plain": [
       "[<matplotlib.lines.Line2D at 0x265f23c3088>]"
      ]
     },
     "execution_count": 81,
     "metadata": {},
     "output_type": "execute_result"
    },
    {
     "data": {
      "text/plain": [
       "Text(0.5, 0, 'K (clusters)')"
      ]
     },
     "execution_count": 81,
     "metadata": {},
     "output_type": "execute_result"
    },
    {
     "data": {
      "text/plain": [
       "Text(0, 0.5, 'SEE')"
      ]
     },
     "execution_count": 81,
     "metadata": {},
     "output_type": "execute_result"
    },
    {
     "data": {
      "image/png": "[encoded data removed]",
      "text/plain": [
       "<Figure size 432x288 with 1 Axes>"
      ]
     },
     "metadata": {
      "needs_background": "light"
     },
     "output_type": "display_data"
    }
   ],
   "source": [
    "plt.plot(index, SSE)\n",
    "plt.xlabel('K (clusters)')\n",
    "plt.ylabel('SEE')"
   ]
  },
  {
   "cell_type": "markdown",
   "metadata": {},
   "source": [
    "### We therefore confirm that the best number of clusters that can be segmented are 3"
   ]
  },
  {
   "cell_type": "code",
   "execution_count": null,
   "metadata": {},
   "outputs": [],
   "source": []
  }
 ],
 "metadata": {
  "kernelspec": {
   "display_name": "Python 3",
   "language": "python",
   "name": "python3"
  },
  "language_info": {
   "codemirror_mode": {
    "name": "ipython",
    "version": 3
   },
   "file_extension": ".py",
   "mimetype": "text/x-python",
   "name": "python",
   "nbconvert_exporter": "python",
   "pygments_lexer": "ipython3",
   "version": "3.7.4"
  }
 },
 "nbformat": 4,
 "nbformat_minor": 2
}
